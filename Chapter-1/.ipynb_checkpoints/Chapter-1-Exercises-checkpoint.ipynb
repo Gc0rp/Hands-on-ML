{
 "cells": [
  {
   "cell_type": "markdown",
   "id": "d6a23788",
   "metadata": {},
   "source": [
    "1. When a machine adapts to a specific dataset and uses its findings to predict a result for specific set of inputs.\n",
    "\n",
    "2. Detecting spam, curing disease, search engine reccomendation, prediction trends.\n",
    "\n",
    "\n",
    "3. Where you know the result associated with the input\n",
    "\n",
    "4. Regression and classification\n",
    "\n",
    "5. clustering, visualization, dimensionality reduction and association rule learning\n",
    "\n",
    "6. semiunsupervised training\n",
    "\n",
    "7. Clustering\n",
    "\n",
    "8. Supervised\n",
    "\n",
    "9. When you train the system incrementally by feeding it data instances sequentially, either individually or by small groups called mini-batches.\n",
    "\n",
    "10. Online learning algorithms that used to train systems incrementally on huge datasets that cannot fit in one machine's memory.\n",
    "\n",
    "11. k-nearest neighbours\n",
    "\n",
    "12. Model parameter is a parameter of the function/model which is calculated while the training processes so we get the best fit of the model. Hyperparameter is the parameter of the learning algorithm\n",
    "\n",
    "13. They find the best way to form a curve with the given data and then use the curve to make future predictions.\n",
    "\n",
    "\n",
    "14. Artificial general Intelligence, overfitting\n",
    "\n",
    "\n",
    "15. The model is overfitted. \n",
    "\n",
    "16. It is an easy to to see if the model you created is accurately predicting data. Also it's helpful for when you want to \n",
    "\n",
    "17. It's when you select a part of the training set to evaluate models and select the best one.\n",
    "\n",
    "18.\n",
    "\n",
    "19. Repeated cross validation is evaluating each model on many small sets. Cross validation is preferred over single validation set because by averaging out all the evaluations of a model, we get a much more accurate measure of its performance."
   ]
  }
 ],
 "metadata": {
  "kernelspec": {
   "display_name": "Python 3 (ipykernel)",
   "language": "python",
   "name": "python3"
  },
  "language_info": {
   "codemirror_mode": {
    "name": "ipython",
    "version": 3
   },
   "file_extension": ".py",
   "mimetype": "text/x-python",
   "name": "python",
   "nbconvert_exporter": "python",
   "pygments_lexer": "ipython3",
   "version": "3.9.6"
  }
 },
 "nbformat": 4,
 "nbformat_minor": 5
}
